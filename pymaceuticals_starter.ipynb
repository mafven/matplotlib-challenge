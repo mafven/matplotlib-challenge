{
 "cells": [
  {
   "cell_type": "markdown",
   "metadata": {},
   "source": [
    "## Observations and Insights "
   ]
  },
  {
   "cell_type": "code",
   "execution_count": 1,
   "metadata": {},
   "outputs": [],
   "source": [
    "# Import Dependencies and Setup\n",
    "import matplotlib\n",
    "import matplotlib.pyplot as plt\n",
    "import pandas as pd\n",
    "import numpy as np\n",
    "import scipy.stats as st\n",
    "import sklearn.datasets as dta\n",
    "\n",
    "\n",
    "# Study data files\n",
    "mouse_metadata_path = \"data/Mouse_metadata.csv\"\n",
    "study_results_path = \"data/Study_results.csv\"\n",
    "\n",
    "# Read both data files\n",
    "mouse_metadata = pd.read_csv(mouse_metadata_path)\n",
    "study_results = pd.read_csv(study_results_path)\n",
    "\n",
    "# Combine both data into a single dataset\n",
    "combined_mouse_study_results = pd.merge(mouse_metadata, study_results, on = \"Mouse ID\")\n",
    "combined_mouse_study_results_df = pd.DataFrame(combined_mouse_study_results)\n",
    "\n",
    "# Display head and tail of the data table for preview\n",
    "# combined_mouse_study_results.info()\n",
    "# combined_mouse_study_results_df.head(5).append(combined_mouse_study_results_df.tail(5))"
   ]
  },
  {
   "cell_type": "code",
   "execution_count": 2,
   "metadata": {},
   "outputs": [],
   "source": [
    "# Checking the number of mice on the combine dataframe\n",
    "# combined_mouse_study_results_df.info()"
   ]
  },
  {
   "cell_type": "code",
   "execution_count": 3,
   "metadata": {},
   "outputs": [],
   "source": [
    "# Optional: Get all the data for the duplicate mouse ID."
   ]
  },
  {
   "cell_type": "code",
   "execution_count": 4,
   "metadata": {},
   "outputs": [],
   "source": [
    "# Create a clean DataFrame by dropping the duplicate mouse by its ID.\n",
    "clean_mouse_study_results_data = combined_mouse_study_results_df.drop_duplicates(\"Mouse ID\", keep='last') #remove duplicates from \"Mouse ID column keeping the last data\"\n",
    "clean_mouse_study_results_data_df = pd.DataFrame(clean_mouse_study_results_data).reset_index(drop=True) # reset index back to 0 for clean dataframe\n",
    "# clean_mouse_study_results_data_df.head(3).append(clean_mouse_study_results_data_df.tail(5)) # preview"
   ]
  },
  {
   "cell_type": "code",
   "execution_count": 5,
   "metadata": {},
   "outputs": [],
   "source": [
    "# Checking the number of mice in the clean DataFrame.\n",
    "# clean_mouse_study_results_data_df.info()"
   ]
  },
  {
   "cell_type": "markdown",
   "metadata": {},
   "source": [
    "## Summary Statistics"
   ]
  },
  {
   "cell_type": "markdown",
   "metadata": {},
   "source": [
    "##### Summary Statistics 1 -   Multiple series (Tumor volume for each regimen)"
   ]
  },
  {
   "cell_type": "code",
   "execution_count": 6,
   "metadata": {},
   "outputs": [],
   "source": [
    "#Get select data column for calculation\n",
    "drug_and_tumor = clean_mouse_study_results_data_df[[\"Drug Regimen\",\"Tumor Volume (mm3)\"]]\n",
    "drug_and_tumor = drug_and_tumor.set_index(\"Drug Regimen\")\n",
    "# drug_and_tumor.head()"
   ]
  },
  {
   "cell_type": "code",
   "execution_count": 7,
   "metadata": {},
   "outputs": [],
   "source": [
    "#Get mean and rename column from Tumor Volume (mm3) to mean \n",
    "mean = drug_and_tumor.groupby(level=0).mean()\n",
    "mean = mean.rename(columns={\"Tumor Volume (mm3)\": \"Mean\"})\n",
    "# mean"
   ]
  },
  {
   "cell_type": "code",
   "execution_count": 8,
   "metadata": {},
   "outputs": [],
   "source": [
    "#Get median and rename column from Tumor Volume (mm3) to meadian\n",
    "median = drug_and_tumor.groupby(level=0).median()\n",
    "median = median.rename(columns={\"Tumor Volume (mm3)\": \"Median\"})\n",
    "# median"
   ]
  },
  {
   "cell_type": "code",
   "execution_count": 9,
   "metadata": {},
   "outputs": [],
   "source": [
    "#Get variance and rename column from Tumor Volume (mm3) to variance \n",
    "variance = drug_and_tumor.groupby(level=0).var()\n",
    "variance = variance.rename(columns={\"Tumor Volume (mm3)\": \"Variance\"})\n",
    "# variance"
   ]
  },
  {
   "cell_type": "code",
   "execution_count": 10,
   "metadata": {},
   "outputs": [],
   "source": [
    "#Get std and rename column from Tumor Volume (mm3) to std \n",
    "std = drug_and_tumor.groupby(level=0).std()\n",
    "std = std.rename(columns={\"Tumor Volume (mm3)\": \"std\"})\n",
    "# std"
   ]
  },
  {
   "cell_type": "code",
   "execution_count": 11,
   "metadata": {},
   "outputs": [],
   "source": [
    "#Get sem and rename column from Tumor Volume (mm3) to sem \n",
    "sem = drug_and_tumor.groupby(level=0).sem()\n",
    "sem = sem.rename(columns={\"Tumor Volume (mm3)\": \"sem\"})\n",
    "# sem"
   ]
  },
  {
   "cell_type": "code",
   "execution_count": 12,
   "metadata": {},
   "outputs": [
    {
     "data": {
      "text/html": [
       "<div>\n",
       "<style scoped>\n",
       "    .dataframe tbody tr th:only-of-type {\n",
       "        vertical-align: middle;\n",
       "    }\n",
       "\n",
       "    .dataframe tbody tr th {\n",
       "        vertical-align: top;\n",
       "    }\n",
       "\n",
       "    .dataframe thead th {\n",
       "        text-align: right;\n",
       "    }\n",
       "</style>\n",
       "<table border=\"1\" class=\"dataframe\">\n",
       "  <thead>\n",
       "    <tr style=\"text-align: right;\">\n",
       "      <th></th>\n",
       "      <th>Mean</th>\n",
       "      <th>Median</th>\n",
       "      <th>Variance</th>\n",
       "      <th>std</th>\n",
       "      <th>sem</th>\n",
       "    </tr>\n",
       "    <tr>\n",
       "      <th>Drug Regimen</th>\n",
       "      <th></th>\n",
       "      <th></th>\n",
       "      <th></th>\n",
       "      <th></th>\n",
       "      <th></th>\n",
       "    </tr>\n",
       "  </thead>\n",
       "  <tbody>\n",
       "    <tr>\n",
       "      <th>Capomulin</th>\n",
       "      <td>36.67</td>\n",
       "      <td>38.13</td>\n",
       "      <td>32.66</td>\n",
       "      <td>5.72</td>\n",
       "      <td>1.14</td>\n",
       "    </tr>\n",
       "    <tr>\n",
       "      <th>Ceftamin</th>\n",
       "      <td>57.75</td>\n",
       "      <td>59.85</td>\n",
       "      <td>69.98</td>\n",
       "      <td>8.37</td>\n",
       "      <td>1.67</td>\n",
       "    </tr>\n",
       "    <tr>\n",
       "      <th>Infubinol</th>\n",
       "      <td>58.18</td>\n",
       "      <td>60.17</td>\n",
       "      <td>74.01</td>\n",
       "      <td>8.60</td>\n",
       "      <td>1.72</td>\n",
       "    </tr>\n",
       "    <tr>\n",
       "      <th>Ketapril</th>\n",
       "      <td>62.81</td>\n",
       "      <td>64.49</td>\n",
       "      <td>98.92</td>\n",
       "      <td>9.95</td>\n",
       "      <td>1.99</td>\n",
       "    </tr>\n",
       "    <tr>\n",
       "      <th>Naftisol</th>\n",
       "      <td>61.21</td>\n",
       "      <td>63.28</td>\n",
       "      <td>106.03</td>\n",
       "      <td>10.30</td>\n",
       "      <td>2.06</td>\n",
       "    </tr>\n",
       "    <tr>\n",
       "      <th>Placebo</th>\n",
       "      <td>60.51</td>\n",
       "      <td>62.03</td>\n",
       "      <td>78.76</td>\n",
       "      <td>8.87</td>\n",
       "      <td>1.77</td>\n",
       "    </tr>\n",
       "    <tr>\n",
       "      <th>Propriva</th>\n",
       "      <td>56.74</td>\n",
       "      <td>55.84</td>\n",
       "      <td>69.35</td>\n",
       "      <td>8.33</td>\n",
       "      <td>1.67</td>\n",
       "    </tr>\n",
       "    <tr>\n",
       "      <th>Ramicane</th>\n",
       "      <td>36.19</td>\n",
       "      <td>36.56</td>\n",
       "      <td>32.17</td>\n",
       "      <td>5.67</td>\n",
       "      <td>1.13</td>\n",
       "    </tr>\n",
       "    <tr>\n",
       "      <th>Stelasyn</th>\n",
       "      <td>61.00</td>\n",
       "      <td>62.19</td>\n",
       "      <td>90.33</td>\n",
       "      <td>9.50</td>\n",
       "      <td>1.94</td>\n",
       "    </tr>\n",
       "    <tr>\n",
       "      <th>Zoniferol</th>\n",
       "      <td>59.18</td>\n",
       "      <td>61.84</td>\n",
       "      <td>76.86</td>\n",
       "      <td>8.77</td>\n",
       "      <td>1.75</td>\n",
       "    </tr>\n",
       "  </tbody>\n",
       "</table>\n",
       "</div>"
      ],
      "text/plain": [
       "               Mean Median Variance    std   sem\n",
       "Drug Regimen                                    \n",
       "Capomulin     36.67  38.13    32.66   5.72  1.14\n",
       "Ceftamin      57.75  59.85    69.98   8.37  1.67\n",
       "Infubinol     58.18  60.17    74.01   8.60  1.72\n",
       "Ketapril      62.81  64.49    98.92   9.95  1.99\n",
       "Naftisol      61.21  63.28   106.03  10.30  2.06\n",
       "Placebo       60.51  62.03    78.76   8.87  1.77\n",
       "Propriva      56.74  55.84    69.35   8.33  1.67\n",
       "Ramicane      36.19  36.56    32.17   5.67  1.13\n",
       "Stelasyn      61.00  62.19    90.33   9.50  1.94\n",
       "Zoniferol     59.18  61.84    76.86   8.77  1.75"
      ]
     },
     "execution_count": 12,
     "metadata": {},
     "output_type": "execute_result"
    }
   ],
   "source": [
    "#Combine all above results in a df and display results\n",
    "summary_statistics_01_df = pd.concat([ mean, median,variance,std,sem],join='outer', axis=1)\n",
    "summary_statistics_01_df\n",
    "\n",
    "# Format columns\n",
    "format_mapping={'Mean': '{:,.2f}', 'Median': '{:,.2f}', 'Variance': '{:.2f}','std': '{:.2f}','sem': '{:.2f}'}\n",
    "\n",
    "for key, value in format_mapping.items():\n",
    "    summary_statistics_01_df[key] = summary_statistics_01_df[key].apply(value.format)\n",
    "    \n",
    "summary_statistics_01_df"
   ]
  },
  {
   "cell_type": "markdown",
   "metadata": {},
   "source": [
    "#### Summary Statistics 2 -   Single Groupby function (Tumor volume for each regimen)"
   ]
  },
  {
   "cell_type": "code",
   "execution_count": 13,
   "metadata": {},
   "outputs": [
    {
     "data": {
      "text/html": [
       "<div>\n",
       "<style scoped>\n",
       "    .dataframe tbody tr th:only-of-type {\n",
       "        vertical-align: middle;\n",
       "    }\n",
       "\n",
       "    .dataframe tbody tr th {\n",
       "        vertical-align: top;\n",
       "    }\n",
       "\n",
       "    .dataframe thead th {\n",
       "        text-align: right;\n",
       "    }\n",
       "</style>\n",
       "<table border=\"1\" class=\"dataframe\">\n",
       "  <thead>\n",
       "    <tr style=\"text-align: right;\">\n",
       "      <th></th>\n",
       "      <th>mean</th>\n",
       "      <th>median</th>\n",
       "      <th>var</th>\n",
       "      <th>std</th>\n",
       "      <th>sem</th>\n",
       "    </tr>\n",
       "    <tr>\n",
       "      <th>Drug Regimen</th>\n",
       "      <th></th>\n",
       "      <th></th>\n",
       "      <th></th>\n",
       "      <th></th>\n",
       "      <th></th>\n",
       "    </tr>\n",
       "  </thead>\n",
       "  <tbody>\n",
       "    <tr>\n",
       "      <th>Capomulin</th>\n",
       "      <td>36.67</td>\n",
       "      <td>38.13</td>\n",
       "      <td>32.66</td>\n",
       "      <td>5.72</td>\n",
       "      <td>1.14</td>\n",
       "    </tr>\n",
       "    <tr>\n",
       "      <th>Ceftamin</th>\n",
       "      <td>57.75</td>\n",
       "      <td>59.85</td>\n",
       "      <td>69.98</td>\n",
       "      <td>8.37</td>\n",
       "      <td>1.67</td>\n",
       "    </tr>\n",
       "    <tr>\n",
       "      <th>Infubinol</th>\n",
       "      <td>58.18</td>\n",
       "      <td>60.17</td>\n",
       "      <td>74.01</td>\n",
       "      <td>8.60</td>\n",
       "      <td>1.72</td>\n",
       "    </tr>\n",
       "    <tr>\n",
       "      <th>Ketapril</th>\n",
       "      <td>62.81</td>\n",
       "      <td>64.49</td>\n",
       "      <td>98.92</td>\n",
       "      <td>9.95</td>\n",
       "      <td>1.99</td>\n",
       "    </tr>\n",
       "    <tr>\n",
       "      <th>Naftisol</th>\n",
       "      <td>61.21</td>\n",
       "      <td>63.28</td>\n",
       "      <td>106.03</td>\n",
       "      <td>10.30</td>\n",
       "      <td>2.06</td>\n",
       "    </tr>\n",
       "    <tr>\n",
       "      <th>Placebo</th>\n",
       "      <td>60.51</td>\n",
       "      <td>62.03</td>\n",
       "      <td>78.76</td>\n",
       "      <td>8.87</td>\n",
       "      <td>1.77</td>\n",
       "    </tr>\n",
       "    <tr>\n",
       "      <th>Propriva</th>\n",
       "      <td>56.74</td>\n",
       "      <td>55.84</td>\n",
       "      <td>69.35</td>\n",
       "      <td>8.33</td>\n",
       "      <td>1.67</td>\n",
       "    </tr>\n",
       "    <tr>\n",
       "      <th>Ramicane</th>\n",
       "      <td>36.19</td>\n",
       "      <td>36.56</td>\n",
       "      <td>32.17</td>\n",
       "      <td>5.67</td>\n",
       "      <td>1.13</td>\n",
       "    </tr>\n",
       "    <tr>\n",
       "      <th>Stelasyn</th>\n",
       "      <td>61.00</td>\n",
       "      <td>62.19</td>\n",
       "      <td>90.33</td>\n",
       "      <td>9.50</td>\n",
       "      <td>1.94</td>\n",
       "    </tr>\n",
       "    <tr>\n",
       "      <th>Zoniferol</th>\n",
       "      <td>59.18</td>\n",
       "      <td>61.84</td>\n",
       "      <td>76.86</td>\n",
       "      <td>8.77</td>\n",
       "      <td>1.75</td>\n",
       "    </tr>\n",
       "  </tbody>\n",
       "</table>\n",
       "</div>"
      ],
      "text/plain": [
       "               mean median     var    std   sem\n",
       "Drug Regimen                                   \n",
       "Capomulin     36.67  38.13   32.66   5.72  1.14\n",
       "Ceftamin      57.75  59.85   69.98   8.37  1.67\n",
       "Infubinol     58.18  60.17   74.01   8.60  1.72\n",
       "Ketapril      62.81  64.49   98.92   9.95  1.99\n",
       "Naftisol      61.21  63.28  106.03  10.30  2.06\n",
       "Placebo       60.51  62.03   78.76   8.87  1.77\n",
       "Propriva      56.74  55.84   69.35   8.33  1.67\n",
       "Ramicane      36.19  36.56   32.17   5.67  1.13\n",
       "Stelasyn      61.00  62.19   90.33   9.50  1.94\n",
       "Zoniferol     59.18  61.84   76.86   8.77  1.75"
      ]
     },
     "execution_count": 13,
     "metadata": {},
     "output_type": "execute_result"
    }
   ],
   "source": [
    "summary_statistics_2_df = clean_mouse_study_results_data_df.groupby([\"Drug Regimen\"])[\"Tumor Volume (mm3)\"].agg([\"mean\",\"median\",\"var\", \"std\",\"sem\"]).reset_index()\n",
    "\n",
    "#Chenge index and display results\n",
    "summary_statistics_2_df.set_index(\"Drug Regimen\")\n",
    "\n",
    "# # Format columns\n",
    "format_mapping={'mean': '{:,.2f}', 'median': '{:,.2f}', 'var': '{:.2f}','std': '{:.2f}','sem': '{:.2f}'}\n",
    "for key, value in format_mapping.items():\n",
    "    summary_statistics_2_df[key] = summary_statistics_2_df[key].apply(value.format)\n",
    "\n",
    "summary_statistics_2_df.set_index(\"Drug Regimen\") "
   ]
  },
  {
   "cell_type": "markdown",
   "metadata": {},
   "source": [
    "## Bar and Pie Charts"
   ]
  },
  {
   "cell_type": "code",
   "execution_count": 14,
   "metadata": {},
   "outputs": [],
   "source": [
    "# Display total number of mice for each treatment throughout the course of the study using pandas.\n",
    "\n",
    "mince_number_and_drug = summary_statistics_2_df[[\"Drug Regimen\",\"mean\"]] \n",
    "mince_number_and_drug = mince_number_and_drug.set_index(\"Drug Regimen\") \n",
    "\n",
    "# preview data info to check datatype/ change data type  from object to float \n",
    "# mince_number_and_drug.info() \n",
    "mince_number_and_drug[\"mean\"] = pd.to_numeric(mince_number_and_drug[\"mean\"], downcast=\"float\")\n",
    "# mince_number_and_drug.info() # check datatype\n"
   ]
  },
  {
   "cell_type": "code",
   "execution_count": 15,
   "metadata": {},
   "outputs": [
    {
     "data": {
      "image/png": "[encoded data removed]",
      "text/plain": [
       "<Figure size 720x432 with 1 Axes>"
      ]
     },
     "metadata": {
      "needs_background": "light"
     },
     "output_type": "display_data"
    },
    {
     "data": {
      "text/plain": [
       "<Figure size 432x288 with 0 Axes>"
      ]
     },
     "metadata": {},
     "output_type": "display_data"
    }
   ],
   "source": [
    "# create the bar plot using pandas plot function and adjust format\n",
    "mince_number_and_drug.plot(kind=\"bar\",legend=False,width=0.9,figsize=(10,6),color='cadetblue',rot=60)\n",
    "\n",
    "plt.title(\"title name tbc\")\n",
    "plt.xlabel(\" Drug Regimens Treatment\")\n",
    "plt.ylabel(\" Tumor Volume (mm3) per Mince\")\n",
    "\n",
    "plt.xlim(-0.75, len(summary_statistics_2_df),100)\n",
    "plt.ylim(0,80)\n",
    "\n",
    "plt.show()\n",
    "plt.tight_layout()"
   ]
  },
  {
   "cell_type": "code",
   "execution_count": 16,
   "metadata": {},
   "outputs": [
    {
     "data": {
      "image/png": "[encoded data removed]",
      "text/plain": [
       "<Figure size 432x288 with 1 Axes>"
      ]
     },
     "metadata": {
      "needs_background": "light"
     },
     "output_type": "display_data"
    }
   ],
   "source": [
    "# Display total number of mice for each treatment throughout the course of the study using pyplot.\n",
    "\n",
    "#Get x-axis and tick location )\n",
    "x_axis = np.arange(len(mince_number_and_drug))\n",
    "tick_locations = [value for value in x_axis]\n",
    "\n",
    "#create the bar plot using pyplot function and adjust  format to much with the pandas\n",
    "plt.bar(x_axis, mince_number_and_drug[\"mean\"], color='cadetblue', alpha=1, align=\"center\",)\n",
    "plt.xticks(tick_locations, summary_statistics_2_df[\"Drug Regimen\"], rotation=60)\n",
    "plt.tight_layout()\n",
    "\n",
    "plt.xlim(-0.75, len(x_axis),100)\n",
    "plt.ylim(0, 80)\n",
    "plt.rc('figure', figsize=(10,6))\n",
    "\n",
    "\n",
    "plt.title(\"title name tbc\")\n",
    "plt.xlabel(\" x label name for Regimens treatment tbc \")\n",
    "plt.ylabel(\" y label name for Tumor Volume (mm3) per Mince\")\n",
    "\n",
    "plt.show()\n",
    "\n",
    "\n",
    "###\n",
    "# # Split up our data into groups based upon 'Regimen'\n",
    "# mouse_groups = clean_mouse_study_results_data_df.groupby([\"Drug Regimen\"])\n",
    "# # count mouse per regiment\n",
    "# drug_reg = mouse_groups[\"Mouse ID\"].count()\n",
    "# # Drop the 'stoptime' row that is contained within our group\n",
    "# drug_reg = drug_reg.drop(drug_reg.index[3])\n",
    "# final_chart = drug_reg.plot(kind=\"bar\", title=\"title\")\n",
    "# final_chart"
   ]
  },
  {
   "cell_type": "code",
   "execution_count": 17,
   "metadata": {},
   "outputs": [
    {
     "data": {
      "image/png": "[encoded data removed]",
      "text/plain": [
       "<Figure size 576x432 with 1 Axes>"
      ]
     },
     "metadata": {},
     "output_type": "display_data"
    }
   ],
   "source": [
    "# Display a pie plot showing the distribution of female versus male mice using pandas\n",
    "\n",
    "#create the pie plot using pandas plot function and adjust standard format\n",
    "clean_mouse_study_results_data_df[\"Sex\"].value_counts().plot(kind='pie', autopct='%1.1f%%',shadow=True, explode=(0,0.005),\n",
    "     startangle=0,  fontsize=10, legend=False,figsize=(8,6),\n",
    "     colors = ['cornflowerblue', 'palevioletred'] )\n",
    "\n",
    "\n",
    "# plt.title(\"n/a\")\n",
    "\n",
    "plt.axis(\"equal\")\n",
    "plt.tight_layout()\n",
    "plt.show()\n",
    "\n"
   ]
  },
  {
   "cell_type": "code",
   "execution_count": 18,
   "metadata": {},
   "outputs": [
    {
     "data": {
      "image/png": "[encoded data removed]",
      "text/plain": [
       "<Figure size 720x432 with 1 Axes>"
      ]
     },
     "metadata": {},
     "output_type": "display_data"
    },
    {
     "data": {
      "text/plain": [
       "<Figure size 576x432 with 0 Axes>"
      ]
     },
     "metadata": {},
     "output_type": "display_data"
    }
   ],
   "source": [
    "# Generate a pie plot showing the distribution of female versus male mice using pyplot\n",
    "# plt.title(\"n/a\")\n",
    "labels = [\"Male tbc\", \"Female tbc\"]\n",
    "male_and_female = clean_mouse_study_results_data_df[[\"Mouse ID\",\"Sex\"]]\n",
    "male_and_female = male_and_female.set_index(\"Mouse ID\")\n",
    "\n",
    "males_fameles_count = male_and_female.value_counts()\n",
    "\n",
    "colors = ['cornflowerblue', 'palevioletred']\n",
    "\n",
    "explode = (0, 0.005)\n",
    "plt.axis(\"equal\")\n",
    "\n",
    "#create the pie plot using pyplot function and adjust  format to much with the pandas\n",
    "plt.pie(males_fameles_count,explode = explode, labels = labels, colors = colors,\n",
    "        autopct=\"%1.1f%%\", shadow=False, startangle=0)\n",
    "plt.figure(figsize=(8, 6))\n",
    "\n",
    "\n",
    "plt.tight_layout()\n",
    "plt.show()\n"
   ]
  },
  {
   "cell_type": "markdown",
   "metadata": {},
   "source": [
    "## Quartiles, Outliers and Boxplots"
   ]
  },
  {
   "cell_type": "code",
   "execution_count": 19,
   "metadata": {},
   "outputs": [],
   "source": [
    "# Calculate the final tumor volume of each mouse across four of the treatment regimens: # Capomulin, Ramicane, Infubinol, and Ceftamin\n",
    "\n",
    "# Sort values for calculation\n",
    "sorting_values = clean_mouse_study_results_data_df.sort_values(['Mouse ID','Drug Regimen','Timepoint','Tumor Volume (mm3)']).groupby('Mouse ID').head(4).set_index('Drug Regimen')\n",
    "# sorting_values\n",
    "\n",
    "#get the last (greatest) timepoint for each mouse for all treatment regimens and preview\n",
    "timepoint_volume = sorting_values.nlargest(4, 'Timepoint',keep='all')\n",
    "timepoint_volume_df = pd.DataFrame(timepoint_volume)\n",
    "tumor_volume = timepoint_volume_df['Tumor Volume (mm3)']\n",
    "tumor_volume_df= pd.DataFrame(tumor_volume)\n",
    "tumor_volume_df  \n",
    "\n",
    "#Get data for the four of the treatment regimens required and preview\n",
    "selected_treatment_regimens = tumor_volume_df .loc[['Capomulin', 'Ramicane','Infubinol','Ceftamin'],:]\n",
    "# selected_treatment_regimens"
   ]
  },
  {
   "cell_type": "code",
   "execution_count": 20,
   "metadata": {},
   "outputs": [
    {
     "name": "stdout",
     "output_type": "stream",
     "text": [
      "The interquartile range is: 28.66\n"
     ]
    }
   ],
   "source": [
    "#Get IQR and print result\n",
    "Q1 = selected_treatment_regimens['Tumor Volume (mm3)'].quantile(0.25)\n",
    "Q3 = selected_treatment_regimens['Tumor Volume (mm3)'].quantile(0.75)\n",
    "IQR = (Q3 - Q1)\n",
    "\n",
    "interquartile_range = '{:,.2f}'.format(IQR)\n",
    "print(f\"The interquartile range is: {interquartile_range}\")"
   ]
  },
  {
   "cell_type": "code",
   "execution_count": 21,
   "metadata": {},
   "outputs": [
    {
     "data": {
      "image/png": "[encoded data removed]",
      "text/plain": [
       "<Figure size 720x288 with 4 Axes>"
      ]
     },
     "metadata": {
      "needs_background": "light"
     },
     "output_type": "display_data"
    }
   ],
   "source": [
    "# Generate a box plot of the final tumor volume of each mouse across four regimens of interest\n",
    "\n",
    "# Generate the plot data for each regimens \n",
    "selected_treatment = selected_treatment_regimens.reset_index()\n",
    "selected_treatment.value_counts()\n",
    "\n",
    "#Get data for each regimens and convert to list\n",
    "Capomulin = selected_treatment.loc[selected_treatment['Drug Regimen'] == 'Capomulin']\n",
    "Ramicane = selected_treatment.loc[selected_treatment['Drug Regimen'] == 'Ramicane']\n",
    "Infubinol = selected_treatment.loc[selected_treatment['Drug Regimen'] == 'Infubinol']\n",
    "Ceftamin = selected_treatment.loc[selected_treatment['Drug Regimen'] == 'Ceftamin']\n",
    "\n",
    "\n",
    "fig, ((ax1, ax2), (ax3, ax4)) = plt.subplots(2,2, figsize=(10,4))\n",
    "ax1.boxplot(Capomulin['Tumor Volume (mm3)'])\n",
    "ax1.set_title('Capomulin')\n",
    "ax1.set_ylabel('')\n",
    "\n",
    "\n",
    "ax2.boxplot(Ramicane['Tumor Volume (mm3)'])\n",
    "ax2.set_title('Ramicane')\n",
    "ax2.set_ylabel('')\n",
    "\n",
    "\n",
    "ax3.boxplot(Infubinol['Tumor Volume (mm3)'])\n",
    "ax3.set_title('Infubinol')\n",
    "ax3.set_ylabel('')\n",
    "\n",
    "\n",
    "ax4.boxplot(Ceftamin['Tumor Volume (mm3)'])\n",
    "ax4.set_title('Ceftamin')\n",
    "ax4.set_ylabel('')\n",
    "plt.show()\n",
    "\n",
    "\n",
    "#https://matplotlib.org/api/_as_gen/matplotlib.figure.Figure.html#matplotlib.figure.Figure.add_subplot\n"
   ]
  },
  {
   "cell_type": "markdown",
   "metadata": {},
   "source": [
    "## Line and Scatter Plots"
   ]
  },
  {
   "cell_type": "code",
   "execution_count": 22,
   "metadata": {},
   "outputs": [],
   "source": [
    "# Generate a line plot of time point versus tumor volume for a mouse treated with Capomulin\n",
    "Capomulin_vs_tumor_volume = timepoint_volume.loc[['Capomulin'],['Tumor Volume (mm3)','Timepoint']]\n",
    "# Capomulin_tumor_volume.head()"
   ]
  },
  {
   "cell_type": "code",
   "execution_count": 23,
   "metadata": {},
   "outputs": [
    {
     "data": {
      "text/plain": [
       "[<matplotlib.lines.Line2D at 0x2543d7e9880>]"
      ]
     },
     "execution_count": 23,
     "metadata": {},
     "output_type": "execute_result"
    },
    {
     "data": {
      "image/png": "[encoded data removed]",
      "text/plain": [
       "<Figure size 720x432 with 1 Axes>"
      ]
     },
     "metadata": {
      "needs_background": "light"
     },
     "output_type": "display_data"
    }
   ],
   "source": [
    "plt.title (\"Capomulin vs tumor volume\")\n",
    "plt.xlabel(\"Capomulin\")\n",
    "plt.ylabel(\"tumor volume\")\n",
    "plt.hlines (35,0,25, color=\"midnightblue\", alpha=0.5)\n",
    "plt.rc('figure', figsize=(10,6))\n",
    "\n",
    "x_axis = np.arange(len(Capomulin_vs_tumor_volume['Timepoint']))\n",
    "# x_axis\n",
    "\n",
    "y_axis = Capomulin_vs_tumor_volume['Tumor Volume (mm3)']\n",
    "# y_axis\n",
    "plt.plot(x_axis,y_axis, color = \"midnightblue\")\n"
   ]
  },
  {
   "cell_type": "code",
   "execution_count": 24,
   "metadata": {},
   "outputs": [],
   "source": [
    "# Generate a scatter plot of mouse weight versus average tumor volume for the Capomulin regimen\n",
    "Capomulin_mouse_weight = timepoint_volume.loc[['Capomulin'],['Tumor Volume (mm3)','Weight (g)']]\n",
    "# Capomulin_mouse_weight.head()"
   ]
  },
  {
   "cell_type": "code",
   "execution_count": 25,
   "metadata": {},
   "outputs": [],
   "source": [
    "mean_tumor_vol_cap = Capomulin_mouse_weight.groupby('Tumor Volume (mm3)').mean()\n",
    "mean_tumor_vol_cap = mean_tumor_vol_cap.reset_index()\n",
    "# mean_tumor_vol_cap.head()"
   ]
  },
  {
   "cell_type": "code",
   "execution_count": 26,
   "metadata": {},
   "outputs": [],
   "source": [
    "# plt.title('Title name tbc')\n",
    "# plt.xlabel('x label name for Mouse weight tbc')\n",
    "# plt.ylabel(\"y label  name for Average tumor volume tbc\" )\n",
    "\n",
    "# plt.scatter(mean_tumor_vol_cap['Weight (g)'], mean_tumor_vol_cap['Tumor Volume (mm3)'])\n",
    "\n",
    "# plt.show()"
   ]
  },
  {
   "cell_type": "markdown",
   "metadata": {},
   "source": [
    "## Correlation and Regression"
   ]
  },
  {
   "cell_type": "code",
   "execution_count": 27,
   "metadata": {},
   "outputs": [
    {
     "data": {
      "image/png": "[encoded data removed]",
      "text/plain": [
       "<Figure size 720x432 with 1 Axes>"
      ]
     },
     "metadata": {
      "needs_background": "light"
     },
     "output_type": "display_data"
    },
    {
     "name": "stdout",
     "output_type": "stream",
     "text": [
      "The correlation coefficient between mouse weight and average tumor volume for the Capomulin regimen is 0.85\n"
     ]
    }
   ],
   "source": [
    "# Calculate the correlation coefficient and linear regression model for mouse weight and average tumor volume for the Capomulin regimen\n",
    "\n",
    "from scipy.stats import linregress\n",
    "\n",
    "# Add the linear regression equation and line to plot\n",
    "x_values = mean_tumor_vol_cap['Weight (g)']\n",
    "y_values = mean_tumor_vol_cap['Tumor Volume (mm3)']\n",
    "(slope, intercept, rvalue, pvalue, stderr) = linregress(x_values, y_values)\n",
    "regress_values = x_values * slope + intercept\n",
    "line_eq = \"y = \" + str(round(slope,2)) + \"x + \" + str(round(intercept,2))\n",
    "\n",
    "plt.scatter(x_values,y_values)\n",
    "plt.plot(x_values,regress_values,\"r-\")\n",
    "plt.annotate(line_eq,(20,10),fontsize=15,color=\"black\")\n",
    "\n",
    "plt.title(' Mouse weight vs average tumor volume correlation ')\n",
    "plt.xlabel('Mouse weight')\n",
    "plt.ylabel(\"Tumor volume \" )\n",
    "plt.show()\n",
    "\n",
    "print(f\"The correlation coefficient between mouse weight and average tumor volume for the Capomulin regimen is {round(st.pearsonr(mean_tumor_vol_cap['Weight (g)'], mean_tumor_vol_cap['Tumor Volume (mm3)'])[0],2)}\")"
   ]
  },
  {
   "cell_type": "code",
   "execution_count": null,
   "metadata": {},
   "outputs": [],
   "source": []
  }
 ],
 "metadata": {
  "anaconda-cloud": {},
  "kernelspec": {
   "display_name": "Python [conda env:PythonData] *",
   "language": "python",
   "name": "conda-env-PythonData-py"
  },
  "language_info": {
   "codemirror_mode": {
    "name": "ipython",
    "version": 3
   },
   "file_extension": ".py",
   "mimetype": "text/x-python",
   "name": "python",
   "nbconvert_exporter": "python",
   "pygments_lexer": "ipython3",
   "version": "3.8.5"
  }
 },
 "nbformat": 4,
 "nbformat_minor": 2
}
