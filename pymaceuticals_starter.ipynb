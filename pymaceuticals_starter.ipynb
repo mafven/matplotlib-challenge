{
 "cells": [
  {
   "cell_type": "markdown",
   "metadata": {},
   "source": [
    "# Matplotlib Assignment - The Power of Plots "
   ]
  },
  {
   "cell_type": "code",
   "execution_count": 1,
   "metadata": {},
   "outputs": [
    {
     "data": {
      "text/html": [
       "<div>\n",
       "<style scoped>\n",
       "    .dataframe tbody tr th:only-of-type {\n",
       "        vertical-align: middle;\n",
       "    }\n",
       "\n",
       "    .dataframe tbody tr th {\n",
       "        vertical-align: top;\n",
       "    }\n",
       "\n",
       "    .dataframe thead th {\n",
       "        text-align: right;\n",
       "    }\n",
       "</style>\n",
       "<table border=\"1\" class=\"dataframe\">\n",
       "  <thead>\n",
       "    <tr style=\"text-align: right;\">\n",
       "      <th></th>\n",
       "      <th>Mouse ID</th>\n",
       "      <th>Drug Regimen</th>\n",
       "      <th>Sex</th>\n",
       "      <th>Age_months</th>\n",
       "      <th>Weight (g)</th>\n",
       "      <th>Timepoint</th>\n",
       "      <th>Tumor Volume (mm3)</th>\n",
       "      <th>Metastatic Sites</th>\n",
       "    </tr>\n",
       "  </thead>\n",
       "  <tbody>\n",
       "    <tr>\n",
       "      <th>0</th>\n",
       "      <td>k403</td>\n",
       "      <td>Ramicane</td>\n",
       "      <td>Male</td>\n",
       "      <td>21</td>\n",
       "      <td>16</td>\n",
       "      <td>0</td>\n",
       "      <td>45.000000</td>\n",
       "      <td>0</td>\n",
       "    </tr>\n",
       "    <tr>\n",
       "      <th>1</th>\n",
       "      <td>k403</td>\n",
       "      <td>Ramicane</td>\n",
       "      <td>Male</td>\n",
       "      <td>21</td>\n",
       "      <td>16</td>\n",
       "      <td>5</td>\n",
       "      <td>38.825898</td>\n",
       "      <td>0</td>\n",
       "    </tr>\n",
       "    <tr>\n",
       "      <th>2</th>\n",
       "      <td>k403</td>\n",
       "      <td>Ramicane</td>\n",
       "      <td>Male</td>\n",
       "      <td>21</td>\n",
       "      <td>16</td>\n",
       "      <td>10</td>\n",
       "      <td>35.014271</td>\n",
       "      <td>1</td>\n",
       "    </tr>\n",
       "    <tr>\n",
       "      <th>3</th>\n",
       "      <td>k403</td>\n",
       "      <td>Ramicane</td>\n",
       "      <td>Male</td>\n",
       "      <td>21</td>\n",
       "      <td>16</td>\n",
       "      <td>15</td>\n",
       "      <td>34.223992</td>\n",
       "      <td>1</td>\n",
       "    </tr>\n",
       "    <tr>\n",
       "      <th>4</th>\n",
       "      <td>k403</td>\n",
       "      <td>Ramicane</td>\n",
       "      <td>Male</td>\n",
       "      <td>21</td>\n",
       "      <td>16</td>\n",
       "      <td>20</td>\n",
       "      <td>32.997729</td>\n",
       "      <td>1</td>\n",
       "    </tr>\n",
       "  </tbody>\n",
       "</table>\n",
       "</div>"
      ],
      "text/plain": [
       "  Mouse ID Drug Regimen   Sex  Age_months  Weight (g)  Timepoint  \\\n",
       "0     k403     Ramicane  Male          21          16          0   \n",
       "1     k403     Ramicane  Male          21          16          5   \n",
       "2     k403     Ramicane  Male          21          16         10   \n",
       "3     k403     Ramicane  Male          21          16         15   \n",
       "4     k403     Ramicane  Male          21          16         20   \n",
       "\n",
       "   Tumor Volume (mm3)  Metastatic Sites  \n",
       "0           45.000000                 0  \n",
       "1           38.825898                 0  \n",
       "2           35.014271                 1  \n",
       "3           34.223992                 1  \n",
       "4           32.997729                 1  "
      ]
     },
     "execution_count": 1,
     "metadata": {},
     "output_type": "execute_result"
    }
   ],
   "source": [
    "# Import Dependencies and Setup\n",
    "import matplotlib\n",
    "import matplotlib.pyplot as plt\n",
    "import pandas as pd\n",
    "import numpy as np\n",
    "import scipy.stats as st\n",
    "import sklearn.datasets as dta\n",
    "import matplotlib.patches as mpatches\n",
    "\n",
    "\n",
    "# Study data files\n",
    "mouse_metadata_path = \"data/Mouse_metadata.csv\"\n",
    "study_results_path = \"data/Study_results.csv\"\n",
    "\n",
    "# Read both data files\n",
    "mouse_metadata = pd.read_csv(mouse_metadata_path)\n",
    "study_results = pd.read_csv(study_results_path)\n",
    "\n",
    "# Combine both data into a single dataset\n",
    "combined_mouse_study_results = pd.merge(mouse_metadata, study_results, on = \"Mouse ID\")\n",
    "combined_mouse_study_results_df = pd.DataFrame(combined_mouse_study_results)\n",
    "\n",
    "# Preview combined data \n",
    "combined_mouse_study_results_df.head()\n",
    "# combined_mouse_study_results_df['Mouse ID'].agg(['nunique','count','size'])"
   ]
  },
  {
   "cell_type": "code",
   "execution_count": 2,
   "metadata": {},
   "outputs": [
    {
     "data": {
      "text/html": [
       "<div>\n",
       "<style scoped>\n",
       "    .dataframe tbody tr th:only-of-type {\n",
       "        vertical-align: middle;\n",
       "    }\n",
       "\n",
       "    .dataframe tbody tr th {\n",
       "        vertical-align: top;\n",
       "    }\n",
       "\n",
       "    .dataframe thead th {\n",
       "        text-align: right;\n",
       "    }\n",
       "</style>\n",
       "<table border=\"1\" class=\"dataframe\">\n",
       "  <thead>\n",
       "    <tr style=\"text-align: right;\">\n",
       "      <th></th>\n",
       "      <th>Mouse ID</th>\n",
       "      <th>Drug Regimen</th>\n",
       "      <th>Sex</th>\n",
       "      <th>Age_months</th>\n",
       "      <th>Weight (g)</th>\n",
       "      <th>Timepoint</th>\n",
       "      <th>Tumor Volume (mm3)</th>\n",
       "      <th>Metastatic Sites</th>\n",
       "    </tr>\n",
       "  </thead>\n",
       "  <tbody>\n",
       "    <tr>\n",
       "      <th>908</th>\n",
       "      <td>g989</td>\n",
       "      <td>Propriva</td>\n",
       "      <td>Female</td>\n",
       "      <td>21</td>\n",
       "      <td>26</td>\n",
       "      <td>0</td>\n",
       "      <td>45.0</td>\n",
       "      <td>0</td>\n",
       "    </tr>\n",
       "    <tr>\n",
       "      <th>909</th>\n",
       "      <td>g989</td>\n",
       "      <td>Propriva</td>\n",
       "      <td>Female</td>\n",
       "      <td>21</td>\n",
       "      <td>26</td>\n",
       "      <td>0</td>\n",
       "      <td>45.0</td>\n",
       "      <td>0</td>\n",
       "    </tr>\n",
       "  </tbody>\n",
       "</table>\n",
       "</div>"
      ],
      "text/plain": [
       "    Mouse ID Drug Regimen     Sex  Age_months  Weight (g)  Timepoint  \\\n",
       "908     g989     Propriva  Female          21          26          0   \n",
       "909     g989     Propriva  Female          21          26          0   \n",
       "\n",
       "     Tumor Volume (mm3)  Metastatic Sites  \n",
       "908                45.0                 0  \n",
       "909                45.0                 0  "
      ]
     },
     "execution_count": 2,
     "metadata": {},
     "output_type": "execute_result"
    }
   ],
   "source": [
    "#Get duplicated data:\n",
    "duplicate_data_DF = combined_mouse_study_results_df[combined_mouse_study_results_df.duplicated(keep=False)]\n",
    "duplicate_data_DF"
   ]
  },
  {
   "cell_type": "code",
   "execution_count": 34,
   "metadata": {},
   "outputs": [],
   "source": [
    "# Create a clean DataFrame by dropping the duplicate mouse by its ID.\n",
    "clean_mouse_study_results_data = combined_mouse_study_results_df.drop_duplicates(\"Mouse ID\", keep='last') #remove duplicates from \"Mouse ID column keeping the last data\"\n",
    "clean_mouse_study_results_data_df = pd.DataFrame(clean_mouse_study_results_data).reset_index(drop=True) # reset index back to 0 for clean dataframe\n",
    "# clean_mouse_study_results_data_df.info()\n",
    "\n",
    "#NOTE - The duplicated line was removed, except for the last occurrence of the mouse ID, as it was assumed that the last entry was correct."
   ]
  },
  {
   "cell_type": "code",
   "execution_count": 35,
   "metadata": {},
   "outputs": [
    {
     "data": {
      "text/html": [
       "<div>\n",
       "<style scoped>\n",
       "    .dataframe tbody tr th:only-of-type {\n",
       "        vertical-align: middle;\n",
       "    }\n",
       "\n",
       "    .dataframe tbody tr th {\n",
       "        vertical-align: top;\n",
       "    }\n",
       "\n",
       "    .dataframe thead th {\n",
       "        text-align: right;\n",
       "    }\n",
       "</style>\n",
       "<table border=\"1\" class=\"dataframe\">\n",
       "  <thead>\n",
       "    <tr style=\"text-align: right;\">\n",
       "      <th></th>\n",
       "      <th>Mouse ID</th>\n",
       "      <th>Drug Regimen</th>\n",
       "      <th>Sex</th>\n",
       "      <th>Age_months</th>\n",
       "      <th>Weight (g)</th>\n",
       "      <th>Timepoint</th>\n",
       "      <th>Tumor Volume (mm3)</th>\n",
       "      <th>Metastatic Sites</th>\n",
       "    </tr>\n",
       "  </thead>\n",
       "  <tbody>\n",
       "    <tr>\n",
       "      <th>0</th>\n",
       "      <td>k403</td>\n",
       "      <td>Ramicane</td>\n",
       "      <td>Male</td>\n",
       "      <td>21</td>\n",
       "      <td>16</td>\n",
       "      <td>45</td>\n",
       "      <td>22.050126</td>\n",
       "      <td>1</td>\n",
       "    </tr>\n",
       "    <tr>\n",
       "      <th>1</th>\n",
       "      <td>s185</td>\n",
       "      <td>Capomulin</td>\n",
       "      <td>Female</td>\n",
       "      <td>3</td>\n",
       "      <td>17</td>\n",
       "      <td>45</td>\n",
       "      <td>23.343598</td>\n",
       "      <td>1</td>\n",
       "    </tr>\n",
       "    <tr>\n",
       "      <th>2</th>\n",
       "      <td>x401</td>\n",
       "      <td>Capomulin</td>\n",
       "      <td>Female</td>\n",
       "      <td>16</td>\n",
       "      <td>15</td>\n",
       "      <td>45</td>\n",
       "      <td>28.484033</td>\n",
       "      <td>0</td>\n",
       "    </tr>\n",
       "    <tr>\n",
       "      <th>3</th>\n",
       "      <td>m601</td>\n",
       "      <td>Capomulin</td>\n",
       "      <td>Male</td>\n",
       "      <td>22</td>\n",
       "      <td>17</td>\n",
       "      <td>45</td>\n",
       "      <td>28.430964</td>\n",
       "      <td>1</td>\n",
       "    </tr>\n",
       "    <tr>\n",
       "      <th>4</th>\n",
       "      <td>g791</td>\n",
       "      <td>Ramicane</td>\n",
       "      <td>Male</td>\n",
       "      <td>11</td>\n",
       "      <td>16</td>\n",
       "      <td>45</td>\n",
       "      <td>29.128472</td>\n",
       "      <td>1</td>\n",
       "    </tr>\n",
       "  </tbody>\n",
       "</table>\n",
       "</div>"
      ],
      "text/plain": [
       "  Mouse ID Drug Regimen     Sex  Age_months  Weight (g)  Timepoint  \\\n",
       "0     k403     Ramicane    Male          21          16         45   \n",
       "1     s185    Capomulin  Female           3          17         45   \n",
       "2     x401    Capomulin  Female          16          15         45   \n",
       "3     m601    Capomulin    Male          22          17         45   \n",
       "4     g791     Ramicane    Male          11          16         45   \n",
       "\n",
       "   Tumor Volume (mm3)  Metastatic Sites  \n",
       "0           22.050126                 1  \n",
       "1           23.343598                 1  \n",
       "2           28.484033                 0  \n",
       "3           28.430964                 1  \n",
       "4           29.128472                 1  "
      ]
     },
     "execution_count": 35,
     "metadata": {},
     "output_type": "execute_result"
    }
   ],
   "source": [
    "clean_mouse_study_results_data_df.head()"
   ]
  },
  {
   "cell_type": "markdown",
   "metadata": {},
   "source": [
    "## 1. Summary Statistics  - Tumor Volume for each regimen"
   ]
  },
  {
   "cell_type": "markdown",
   "metadata": {},
   "source": [
    "### 1. 1 Multiple series "
   ]
  },
  {
   "cell_type": "code",
   "execution_count": 36,
   "metadata": {},
   "outputs": [],
   "source": [
    "#Get Drug Regime and Tumor Volume data column for calculation :\n",
    "drug_and_tumor = clean_mouse_study_results_data_df[[\"Drug Regimen\",\"Tumor Volume (mm3)\"]]\n",
    "drug_and_tumor = drug_and_tumor.set_index(\"Drug Regimen\")\n",
    "# drug_and_tumor.head()"
   ]
  },
  {
   "cell_type": "code",
   "execution_count": 37,
   "metadata": {},
   "outputs": [],
   "source": [
    "#Get mean and rename column from Tumor Volume (mm3) to mean \n",
    "mean = drug_and_tumor.groupby(level=0).mean()\n",
    "mean = mean.rename(columns={\"Tumor Volume (mm3)\": \"Mean\"})\n",
    "# mean"
   ]
  },
  {
   "cell_type": "code",
   "execution_count": 38,
   "metadata": {},
   "outputs": [],
   "source": [
    "#Get median and rename column from Tumor Volume (mm3) to meadian\n",
    "median = drug_and_tumor.groupby(level=0).median()\n",
    "median = median.rename(columns={\"Tumor Volume (mm3)\": \"Median\"})\n",
    "# median"
   ]
  },
  {
   "cell_type": "code",
   "execution_count": 39,
   "metadata": {},
   "outputs": [],
   "source": [
    "#Get variance and rename column from Tumor Volume (mm3) to variance \n",
    "variance = drug_and_tumor.groupby(level=0).var()\n",
    "variance = variance.rename(columns={\"Tumor Volume (mm3)\": \"Variance\"})\n",
    "# variance"
   ]
  },
  {
   "cell_type": "code",
   "execution_count": 40,
   "metadata": {},
   "outputs": [],
   "source": [
    "#Get std and rename column from Tumor Volume (mm3) to std \n",
    "std = drug_and_tumor.groupby(level=0).std()\n",
    "std = std.rename(columns={\"Tumor Volume (mm3)\": \"std\"})\n",
    "# std"
   ]
  },
  {
   "cell_type": "code",
   "execution_count": 42,
   "metadata": {},
   "outputs": [],
   "source": [
    "#Get sem and rename column from Tumor Volume (mm3) to sem \n",
    "sem = drug_and_tumor.groupby(level=0).sem()\n",
    "sem = sem.rename(columns={\"Tumor Volume (mm3)\": \"sem\"})\n",
    "# sem"
   ]
  },
  {
   "cell_type": "code",
   "execution_count": 43,
   "metadata": {},
   "outputs": [
    {
     "data": {
      "text/html": [
       "<div>\n",
       "<style scoped>\n",
       "    .dataframe tbody tr th:only-of-type {\n",
       "        vertical-align: middle;\n",
       "    }\n",
       "\n",
       "    .dataframe tbody tr th {\n",
       "        vertical-align: top;\n",
       "    }\n",
       "\n",
       "    .dataframe thead th {\n",
       "        text-align: right;\n",
       "    }\n",
       "</style>\n",
       "<table border=\"1\" class=\"dataframe\">\n",
       "  <thead>\n",
       "    <tr style=\"text-align: right;\">\n",
       "      <th></th>\n",
       "      <th>Mean</th>\n",
       "      <th>Median</th>\n",
       "      <th>Variance</th>\n",
       "      <th>std</th>\n",
       "      <th>sem</th>\n",
       "    </tr>\n",
       "    <tr>\n",
       "      <th>Drug Regimen</th>\n",
       "      <th></th>\n",
       "      <th></th>\n",
       "      <th></th>\n",
       "      <th></th>\n",
       "      <th></th>\n",
       "    </tr>\n",
       "  </thead>\n",
       "  <tbody>\n",
       "    <tr>\n",
       "      <th>Capomulin</th>\n",
       "      <td>36.67</td>\n",
       "      <td>38.13</td>\n",
       "      <td>32.66</td>\n",
       "      <td>5.72</td>\n",
       "      <td>1.14</td>\n",
       "    </tr>\n",
       "    <tr>\n",
       "      <th>Ceftamin</th>\n",
       "      <td>57.75</td>\n",
       "      <td>59.85</td>\n",
       "      <td>69.98</td>\n",
       "      <td>8.37</td>\n",
       "      <td>1.67</td>\n",
       "    </tr>\n",
       "    <tr>\n",
       "      <th>Infubinol</th>\n",
       "      <td>58.18</td>\n",
       "      <td>60.17</td>\n",
       "      <td>74.01</td>\n",
       "      <td>8.60</td>\n",
       "      <td>1.72</td>\n",
       "    </tr>\n",
       "    <tr>\n",
       "      <th>Ketapril</th>\n",
       "      <td>62.81</td>\n",
       "      <td>64.49</td>\n",
       "      <td>98.92</td>\n",
       "      <td>9.95</td>\n",
       "      <td>1.99</td>\n",
       "    </tr>\n",
       "    <tr>\n",
       "      <th>Naftisol</th>\n",
       "      <td>61.21</td>\n",
       "      <td>63.28</td>\n",
       "      <td>106.03</td>\n",
       "      <td>10.30</td>\n",
       "      <td>2.06</td>\n",
       "    </tr>\n",
       "    <tr>\n",
       "      <th>Placebo</th>\n",
       "      <td>60.51</td>\n",
       "      <td>62.03</td>\n",
       "      <td>78.76</td>\n",
       "      <td>8.87</td>\n",
       "      <td>1.77</td>\n",
       "    </tr>\n",
       "    <tr>\n",
       "      <th>Propriva</th>\n",
       "      <td>56.74</td>\n",
       "      <td>55.84</td>\n",
       "      <td>69.35</td>\n",
       "      <td>8.33</td>\n",
       "      <td>1.67</td>\n",
       "    </tr>\n",
       "    <tr>\n",
       "      <th>Ramicane</th>\n",
       "      <td>36.19</td>\n",
       "      <td>36.56</td>\n",
       "      <td>32.17</td>\n",
       "      <td>5.67</td>\n",
       "      <td>1.13</td>\n",
       "    </tr>\n",
       "    <tr>\n",
       "      <th>Stelasyn</th>\n",
       "      <td>61.00</td>\n",
       "      <td>62.19</td>\n",
       "      <td>90.33</td>\n",
       "      <td>9.50</td>\n",
       "      <td>1.94</td>\n",
       "    </tr>\n",
       "    <tr>\n",
       "      <th>Zoniferol</th>\n",
       "      <td>59.18</td>\n",
       "      <td>61.84</td>\n",
       "      <td>76.86</td>\n",
       "      <td>8.77</td>\n",
       "      <td>1.75</td>\n",
       "    </tr>\n",
       "  </tbody>\n",
       "</table>\n",
       "</div>"
      ],
      "text/plain": [
       "               Mean Median Variance    std   sem\n",
       "Drug Regimen                                    \n",
       "Capomulin     36.67  38.13    32.66   5.72  1.14\n",
       "Ceftamin      57.75  59.85    69.98   8.37  1.67\n",
       "Infubinol     58.18  60.17    74.01   8.60  1.72\n",
       "Ketapril      62.81  64.49    98.92   9.95  1.99\n",
       "Naftisol      61.21  63.28   106.03  10.30  2.06\n",
       "Placebo       60.51  62.03    78.76   8.87  1.77\n",
       "Propriva      56.74  55.84    69.35   8.33  1.67\n",
       "Ramicane      36.19  36.56    32.17   5.67  1.13\n",
       "Stelasyn      61.00  62.19    90.33   9.50  1.94\n",
       "Zoniferol     59.18  61.84    76.86   8.77  1.75"
      ]
     },
     "execution_count": 43,
     "metadata": {},
     "output_type": "execute_result"
    }
   ],
   "source": [
    "#Combine all above results in a df and display results\n",
    "summary_statistics_01_df = pd.concat([ mean, median,variance,std,sem],join='outer', axis=1)\n",
    "summary_statistics_01_df\n",
    "\n",
    "# Format columns\n",
    "format_mapping={'Mean': '{:,.2f}', 'Median': '{:,.2f}', 'Variance': '{:.2f}','std': '{:.2f}','sem': '{:.2f}'}\n",
    "\n",
    "for key, value in format_mapping.items():\n",
    "    summary_statistics_01_df[key] = summary_statistics_01_df[key].apply(value.format)\n",
    "    \n",
    "summary_statistics_01_df"
   ]
  },
  {
   "cell_type": "markdown",
   "metadata": {},
   "source": [
    "### 1.2.  Single Groupby function"
   ]
  },
  {
   "cell_type": "code",
   "execution_count": 45,
   "metadata": {},
   "outputs": [
    {
     "data": {
      "text/html": [
       "<div>\n",
       "<style scoped>\n",
       "    .dataframe tbody tr th:only-of-type {\n",
       "        vertical-align: middle;\n",
       "    }\n",
       "\n",
       "    .dataframe tbody tr th {\n",
       "        vertical-align: top;\n",
       "    }\n",
       "\n",
       "    .dataframe thead th {\n",
       "        text-align: right;\n",
       "    }\n",
       "</style>\n",
       "<table border=\"1\" class=\"dataframe\">\n",
       "  <thead>\n",
       "    <tr style=\"text-align: right;\">\n",
       "      <th></th>\n",
       "      <th>mean</th>\n",
       "      <th>median</th>\n",
       "      <th>var</th>\n",
       "      <th>std</th>\n",
       "      <th>sem</th>\n",
       "    </tr>\n",
       "    <tr>\n",
       "      <th>Drug Regimen</th>\n",
       "      <th></th>\n",
       "      <th></th>\n",
       "      <th></th>\n",
       "      <th></th>\n",
       "      <th></th>\n",
       "    </tr>\n",
       "  </thead>\n",
       "  <tbody>\n",
       "    <tr>\n",
       "      <th>Capomulin</th>\n",
       "      <td>36.67</td>\n",
       "      <td>38.13</td>\n",
       "      <td>32.66</td>\n",
       "      <td>5.72</td>\n",
       "      <td>1.14</td>\n",
       "    </tr>\n",
       "    <tr>\n",
       "      <th>Ceftamin</th>\n",
       "      <td>57.75</td>\n",
       "      <td>59.85</td>\n",
       "      <td>69.98</td>\n",
       "      <td>8.37</td>\n",
       "      <td>1.67</td>\n",
       "    </tr>\n",
       "    <tr>\n",
       "      <th>Infubinol</th>\n",
       "      <td>58.18</td>\n",
       "      <td>60.17</td>\n",
       "      <td>74.01</td>\n",
       "      <td>8.60</td>\n",
       "      <td>1.72</td>\n",
       "    </tr>\n",
       "    <tr>\n",
       "      <th>Ketapril</th>\n",
       "      <td>62.81</td>\n",
       "      <td>64.49</td>\n",
       "      <td>98.92</td>\n",
       "      <td>9.95</td>\n",
       "      <td>1.99</td>\n",
       "    </tr>\n",
       "    <tr>\n",
       "      <th>Naftisol</th>\n",
       "      <td>61.21</td>\n",
       "      <td>63.28</td>\n",
       "      <td>106.03</td>\n",
       "      <td>10.30</td>\n",
       "      <td>2.06</td>\n",
       "    </tr>\n",
       "    <tr>\n",
       "      <th>Placebo</th>\n",
       "      <td>60.51</td>\n",
       "      <td>62.03</td>\n",
       "      <td>78.76</td>\n",
       "      <td>8.87</td>\n",
       "      <td>1.77</td>\n",
       "    </tr>\n",
       "    <tr>\n",
       "      <th>Propriva</th>\n",
       "      <td>56.74</td>\n",
       "      <td>55.84</td>\n",
       "      <td>69.35</td>\n",
       "      <td>8.33</td>\n",
       "      <td>1.67</td>\n",
       "    </tr>\n",
       "    <tr>\n",
       "      <th>Ramicane</th>\n",
       "      <td>36.19</td>\n",
       "      <td>36.56</td>\n",
       "      <td>32.17</td>\n",
       "      <td>5.67</td>\n",
       "      <td>1.13</td>\n",
       "    </tr>\n",
       "    <tr>\n",
       "      <th>Stelasyn</th>\n",
       "      <td>61.00</td>\n",
       "      <td>62.19</td>\n",
       "      <td>90.33</td>\n",
       "      <td>9.50</td>\n",
       "      <td>1.94</td>\n",
       "    </tr>\n",
       "    <tr>\n",
       "      <th>Zoniferol</th>\n",
       "      <td>59.18</td>\n",
       "      <td>61.84</td>\n",
       "      <td>76.86</td>\n",
       "      <td>8.77</td>\n",
       "      <td>1.75</td>\n",
       "    </tr>\n",
       "  </tbody>\n",
       "</table>\n",
       "</div>"
      ],
      "text/plain": [
       "               mean median     var    std   sem\n",
       "Drug Regimen                                   \n",
       "Capomulin     36.67  38.13   32.66   5.72  1.14\n",
       "Ceftamin      57.75  59.85   69.98   8.37  1.67\n",
       "Infubinol     58.18  60.17   74.01   8.60  1.72\n",
       "Ketapril      62.81  64.49   98.92   9.95  1.99\n",
       "Naftisol      61.21  63.28  106.03  10.30  2.06\n",
       "Placebo       60.51  62.03   78.76   8.87  1.77\n",
       "Propriva      56.74  55.84   69.35   8.33  1.67\n",
       "Ramicane      36.19  36.56   32.17   5.67  1.13\n",
       "Stelasyn      61.00  62.19   90.33   9.50  1.94\n",
       "Zoniferol     59.18  61.84   76.86   8.77  1.75"
      ]
     },
     "execution_count": 45,
     "metadata": {},
     "output_type": "execute_result"
    }
   ],
   "source": [
    "summary_statistics_2_df = clean_mouse_study_results_data_df.groupby([\"Drug Regimen\"])[\"Tumor Volume (mm3)\"].agg([\"mean\",\"median\",\"var\", \"std\",\"sem\"]).reset_index()\n",
    "\n",
    "#Chenge index and display results\n",
    "summary_statistics_2_df.set_index(\"Drug Regimen\")\n",
    "\n",
    "# Format columns\n",
    "format_mapping={'mean': '{:,.2f}', 'median': '{:,.2f}', 'var': '{:.2f}','std': '{:.2f}','sem': '{:.2f}'}\n",
    "for key, value in format_mapping.items():\n",
    "    summary_statistics_2_df[key] = summary_statistics_2_df[key].apply(value.format)\n",
    "\n",
    "summary_statistics_2_df.set_index(\"Drug Regimen\") "
   ]
  },
  {
   "cell_type": "markdown",
   "metadata": {},
   "source": [
    "### 2. Bar Plot with Pandas"
   ]
  },
  {
   "cell_type": "code",
   "execution_count": 46,
   "metadata": {},
   "outputs": [
    {
     "data": {
      "image/png": "[encoded data removed]",
      "text/plain": [
       "<Figure size 720x432 with 1 Axes>"
      ]
     },
     "metadata": {
      "needs_background": "light"
     },
     "output_type": "display_data"
    },
    {
     "data": {
      "text/plain": [
       "<Figure size 432x288 with 0 Axes>"
      ]
     },
     "metadata": {},
     "output_type": "display_data"
    }
   ],
   "source": [
    "mice_numbers_and_drug = combined_mouse_study_results_df[[\"Mouse ID\",\"Drug Regimen\"]] #isolate columns\n",
    "mice_numbers_and_drug =  mice_numbers_and_drug.groupby([\"Drug Regimen\"]).count() #count numbers of mince by each treatment\n",
    "\n",
    "mice_numbers_and_drug.plot(kind=\"bar\",legend=False,width=0.68,figsize=(10,6),color='cadetblue',rot=60)\n",
    "\n",
    "# plt.title(\"Mince treated per Drug Regimen\")  #decided n/a as label alredy give info for the data\n",
    "plt.xlabel(\" Drug Regimen\")\n",
    "plt.ylabel(\" Numbers of Mince\")\n",
    "\n",
    "plt.xlim(-0.75, len(mice_numbers_and_drug), -0.25)\n",
    "\n",
    "plt.show()\n",
    "plt.tight_layout()\n"
   ]
  },
  {
   "cell_type": "markdown",
   "metadata": {},
   "source": [
    "### 3. Bar Plot  with MatPlotLib"
   ]
  },
  {
   "cell_type": "code",
   "execution_count": 47,
   "metadata": {},
   "outputs": [
    {
     "data": {
      "image/png": "[encoded data removed]",
      "text/plain": [
       "<Figure size 432x288 with 1 Axes>"
      ]
     },
     "metadata": {
      "needs_background": "light"
     },
     "output_type": "display_data"
    }
   ],
   "source": [
    "#Get x-axis,  tick location, etc\n",
    "x_axis = np.arange(len(mice_numbers_and_drug))\n",
    "tick_locations = [value for value in x_axis]\n",
    "\n",
    "plt.bar(x_axis, mice_numbers_and_drug[\"Mouse ID\"], color='cadetblue', alpha=1, align=\"center\",)\n",
    "\n",
    "plt.xticks(tick_locations, mice_numbers_and_drug.index, rotation=60)\n",
    "plt.tight_layout()\n",
    "\n",
    "plt.xlim(-0.75, len(x_axis),-0.25)\n",
    "\n",
    "\n",
    "# plt.title(\"Mince treated per Drug Regimen\") #decided n/a as label alredy give info for the data\n",
    "plt.xlabel(\" Drug Regimen\")\n",
    "plt.ylabel(\" Numbers of Mince\")\n",
    "\n",
    "plt.show()\n"
   ]
  },
  {
   "cell_type": "markdown",
   "metadata": {},
   "source": [
    "## 4. PIe Plot  - Distribution of Female versus Male Mice"
   ]
  },
  {
   "cell_type": "markdown",
   "metadata": {},
   "source": [
    "###  4.1 Pandas "
   ]
  },
  {
   "cell_type": "code",
   "execution_count": 19,
   "metadata": {},
   "outputs": [
    {
     "data": {
      "image/png": "[encoded data removed]",
      "text/plain": [
       "<Figure size 432x288 with 1 Axes>"
      ]
     },
     "metadata": {},
     "output_type": "display_data"
    }
   ],
   "source": [
    "#create the pie plot using pandas plot function and adjust standard format\n",
    "clean_mouse_study_results_data_df[\"Sex\"].value_counts().plot(kind='pie', autopct='%1.1f%%',shadow=True, explode=(0,0.005),\n",
    "     startangle=0,  fontsize=10, legend=False,figsize=(6, 4),labels=['',''],\n",
    "     colors = ['cornflowerblue', 'palevioletred'] )\n",
    "\n",
    "red_patch = mpatches.Patch(color=\"cornflowerblue\", label=\"Male\")\n",
    "blue_patch = mpatches.Patch(color=\"palevioletred\", label=\"Female\")\n",
    "plt.legend(handles=[red_patch,blue_patch],loc=\"best\")\n",
    "plt.title(\"Gender Distribution\")\n",
    "plt.axis(\"equal\")\n",
    "plt.tight_layout()\n",
    "plt.show()"
   ]
  },
  {
   "cell_type": "markdown",
   "metadata": {},
   "source": [
    "### 4.2 MatPlotLib"
   ]
  },
  {
   "cell_type": "code",
   "execution_count": 20,
   "metadata": {},
   "outputs": [
    {
     "data": {
      "image/png": "[encoded data removed]",
      "text/plain": [
       "<Figure size 432x288 with 1 Axes>"
      ]
     },
     "metadata": {},
     "output_type": "display_data"
    },
    {
     "data": {
      "text/plain": [
       "<Figure size 576x432 with 0 Axes>"
      ]
     },
     "metadata": {},
     "output_type": "display_data"
    }
   ],
   "source": [
    "# Generate a pie plot showing the distribution of female versus male mice using pyplot\n",
    "plt.title(\"Gender Distribution\")\n",
    "labels = [\"\", \"\"]\n",
    "\n",
    "red_patch = mpatches.Patch(color=\"cornflowerblue\", label=\"Male\")\n",
    "blue_patch = mpatches.Patch(color=\"palevioletred\", label=\"Female\")\n",
    "plt.legend(handles=[red_patch,blue_patch],loc=\"best\")\n",
    "\n",
    "colors = ['cornflowerblue', 'palevioletred']\n",
    "\n",
    "explode = (0, 0.005)\n",
    "plt.axis(\"equal\")\n",
    "\n",
    "male_and_female = clean_mouse_study_results_data_df[[\"Mouse ID\",\"Sex\"]]\n",
    "male_and_female = male_and_female.set_index(\"Mouse ID\")\n",
    "\n",
    "males_fameles_count = male_and_female.value_counts()\n",
    "\n",
    "#create the pie plot using pyplot function and adjust  format to much with the pandas\n",
    "plt.pie(males_fameles_count,explode = explode, labels = labels, colors = colors,\n",
    "        autopct=\"%1.1f%%\", shadow=False, startangle=0)\n",
    "plt.figure(figsize=(8, 6))\n",
    "\n",
    "\n",
    "plt.tight_layout()\n",
    "plt.show()\n"
   ]
  },
  {
   "cell_type": "markdown",
   "metadata": {},
   "source": [
    "## 5. Quartiles, Outliers and Outliers \n",
    "### (Final tumor volume  across Capomulin, Ramicane, Infubinol, and Ceftamin treatment regimens)"
   ]
  },
  {
   "cell_type": "code",
   "execution_count": 52,
   "metadata": {},
   "outputs": [
    {
     "name": "stdout",
     "output_type": "stream",
     "text": [
      "<class 'pandas.core.frame.DataFrame'>\n",
      "Index: 63 entries, Capomulin to Ceftamin\n",
      "Data columns (total 1 columns):\n",
      " #   Column              Non-Null Count  Dtype  \n",
      "---  ------              --------------  -----  \n",
      " 0   Tumor Volume (mm3)  63 non-null     float64\n",
      "dtypes: float64(1)\n",
      "memory usage: 1008.0+ bytes\n"
     ]
    }
   ],
   "source": [
    "# select values for calculation\n",
    "sorting_values = clean_mouse_study_results_data_df.sort_values(['Mouse ID','Drug Regimen','Timepoint','Tumor Volume (mm3)']).groupby('Mouse ID').head(4).set_index('Drug Regimen')\n",
    "# sorting_values\n",
    "\n",
    "#Get the last (greatest) timepoint for each mouse for all treatment regimens and preview\n",
    "timepoint_volume = sorting_values.nlargest(4, 'Timepoint',keep='all')\n",
    "timepoint_volume_df = pd.DataFrame(timepoint_volume)\n",
    "tumor_volume = timepoint_volume_df['Tumor Volume (mm3)']\n",
    "tumor_volume_df= pd.DataFrame(tumor_volume)\n",
    "tumor_volume_df  \n",
    "\n",
    "#Get data for the four of the treatment regimens required and preview\n",
    "selected_treatment_regimens = tumor_volume_df .loc[['Capomulin', 'Ramicane','Infubinol','Ceftamin'],:]\n",
    "selected_treatment_regimens.info()"
   ]
  },
  {
   "cell_type": "code",
   "execution_count": 58,
   "metadata": {},
   "outputs": [
    {
     "data": {
      "text/plain": [
       "Drug Regimen  Tumor Volume (mm3)\n",
       "Capomulin     23.343598             1\n",
       "Ramicane      30.638696             1\n",
       "Infubinol     60.918767             1\n",
       "              62.435404             1\n",
       "              62.754451             1\n",
       "                                   ..\n",
       "Ceftamin      62.999356             1\n",
       "              64.299830             1\n",
       "              64.634949             1\n",
       "              64.729837             1\n",
       "Ramicane      45.220869             1\n",
       "Length: 63, dtype: int64"
      ]
     },
     "execution_count": 58,
     "metadata": {},
     "output_type": "execute_result"
    }
   ],
   "source": [
    "#Get Quartiles, Outliers, IQR and Outliers\n",
    "quartiles = selected_treatment_regimens['Tumor Volume (mm3)'].quantile([.25,.5,.75])\n",
    "Q1 = selected_treatment_regimens['Tumor Volume (mm3)'].quantile(0.25)\n",
    "Q3 = selected_treatment_regimens['Tumor Volume (mm3)'].quantile(0.75)\n",
    "median = quartiles[0.5]\n",
    "IQR = (Q3 - Q1)\n",
    "lower_bound = Q1 - (1.5*IQR)\n",
    "upper_bound = Q3 + (1.5*IQR)\n",
    "\n",
    "Lower_quartile = '{:,.2f}'.format(Q1)\n",
    "Upper_quartile = '{:,.2f}'.format(Q3)\n",
    "interquartile_range = '{:,.2f}'.format(IQR)\n",
    "median =  '{:,.2f}'.format(median)\n",
    "lower_bound = '{:,.2f}'.format(lower_bound)\n",
    "upper_bound = '{:,.2f}'.format(upper_bound)\n",
    "\n",
    "quartile_calculations_df = pd.DataFrame({\"Lower quartile\" : [Lower_quartile], \n",
    "                                        \"Upper quartile \": [Upper_quartile] ,\n",
    "                                        \"Interquartile range\" : [interquartile_range],\n",
    "                                        \"Median\" : [median],\n",
    "                                         \"Lower bound (<Potential outlier>)\" :[lower_bound],\n",
    "                                        \"Upper bound (<potential outlier>)\" :[upper_bound]})\n",
    "\n",
    "quartile_calculations_df"
   ]
  },
  {
   "cell_type": "markdown",
   "metadata": {},
   "source": [
    "## 7. Box Plots\n",
    "### (Final tumor volume  across Capomulin, Ramicane, Infubinol, and Ceftamin treatment regimens)"
   ]
  },
  {
   "cell_type": "code",
   "execution_count": 59,
   "metadata": {},
   "outputs": [
    {
     "data": {
      "image/png": "[encoded data removed]",
      "text/plain": [
       "<Figure size 1440x720 with 4 Axes>"
      ]
     },
     "metadata": {
      "needs_background": "light"
     },
     "output_type": "display_data"
    }
   ],
   "source": [
    "selected_treatment = selected_treatment_regimens.reset_index()\n",
    "selected_treatment.value_counts()\n",
    "\n",
    "#Get data for each regimens and convert to list\n",
    "Capomulin = selected_treatment.loc[selected_treatment['Drug Regimen'] == 'Capomulin']\n",
    "Ramicane = selected_treatment.loc[selected_treatment['Drug Regimen'] == 'Ramicane']\n",
    "Infubinol = selected_treatment.loc[selected_treatment['Drug Regimen'] == 'Infubinol']\n",
    "Ceftamin = selected_treatment.loc[selected_treatment['Drug Regimen'] == 'Ceftamin']\n",
    "\n",
    "\n",
    "fig, ((ax1, ax2), (ax3, ax4)) = plt.subplots(2,2, figsize=(20,10))\n",
    "ax1.boxplot(Capomulin['Tumor Volume (mm3)'])\n",
    "ax1.set_title('Final tumor volume - Capomulin')\n",
    "ax1.set_ylabel('')\n",
    "\n",
    "ax2.boxplot(Ramicane['Tumor Volume (mm3)'])\n",
    "ax2.set_title('Final tumor volume - Ramicane')\n",
    "ax2.set_ylabel('')\n",
    "\n",
    "ax3.boxplot(Infubinol['Tumor Volume (mm3)'])\n",
    "ax3.set_title('Final tumor volume - Infubinol')\n",
    "ax3.set_ylabel('')\n",
    "\n",
    "ax4.boxplot(Ceftamin['Tumor Volume (mm3)'])\n",
    "ax4.set_title('Final tumor volume - Ceftamin')\n",
    "ax4.set_ylabel('')\n",
    "plt.show()\n",
    "\n",
    "\n",
    "\n",
    "#https://matplotlib.org/api/_as_gen/matplotlib.figure.Figure.html#matplotlib.figure.Figure.add_subplot"
   ]
  },
  {
   "cell_type": "markdown",
   "metadata": {},
   "source": [
    "## 8. Line Plot\n",
    "### Time Point versus Tumor vTolume for a mouse treated with Capomulin"
   ]
  },
  {
   "cell_type": "code",
   "execution_count": 60,
   "metadata": {},
   "outputs": [],
   "source": [
    "timepoint_volume = combined_mouse_study_results_df[['Mouse ID','Drug Regimen','Tumor Volume (mm3)','Timepoint']]\n",
    "timepoint_volume_df= pd.DataFrame(timepoint_volume)\n",
    "timepoint_volume = timepoint_volume_df.set_index(\"Drug Regimen\")  \n",
    "\n",
    "# #Get data for Capomulin and preview\n",
    "Capomulin_time_tumor_vol = timepoint_volume .loc[['Capomulin'],:]\n",
    "\n",
    "# Capomulin_time_tumor_vol.head()"
   ]
  },
  {
   "cell_type": "code",
   "execution_count": 62,
   "metadata": {},
   "outputs": [
    {
     "data": {
      "text/plain": [
       "Drug Regimen\n",
       "Capomulin    m601\n",
       "Name: Mouse ID, dtype: object"
      ]
     },
     "execution_count": 62,
     "metadata": {},
     "output_type": "execute_result"
    }
   ],
   "source": [
    "# Plot timepoint as a line chart\n",
    "\n",
    "# select a mouse id from the data\n",
    "i = Capomulin_time_tumor_vol['Mouse ID'].sample(axis = 0)\n",
    "i\n"
   ]
  },
  {
   "cell_type": "code",
   "execution_count": 66,
   "metadata": {},
   "outputs": [
    {
     "data": {
      "text/html": [
       "<div>\n",
       "<style scoped>\n",
       "    .dataframe tbody tr th:only-of-type {\n",
       "        vertical-align: middle;\n",
       "    }\n",
       "\n",
       "    .dataframe tbody tr th {\n",
       "        vertical-align: top;\n",
       "    }\n",
       "\n",
       "    .dataframe thead th {\n",
       "        text-align: right;\n",
       "    }\n",
       "</style>\n",
       "<table border=\"1\" class=\"dataframe\">\n",
       "  <thead>\n",
       "    <tr style=\"text-align: right;\">\n",
       "      <th></th>\n",
       "      <th>Mouse ID</th>\n",
       "      <th>Tumor Volume (mm3)</th>\n",
       "      <th>Timepoint</th>\n",
       "    </tr>\n",
       "    <tr>\n",
       "      <th>Drug Regimen</th>\n",
       "      <th></th>\n",
       "      <th></th>\n",
       "      <th></th>\n",
       "    </tr>\n",
       "  </thead>\n",
       "  <tbody>\n",
       "    <tr>\n",
       "      <th>Capomulin</th>\n",
       "      <td>m601</td>\n",
       "      <td>45.000000</td>\n",
       "      <td>0</td>\n",
       "    </tr>\n",
       "    <tr>\n",
       "      <th>Capomulin</th>\n",
       "      <td>m601</td>\n",
       "      <td>41.408591</td>\n",
       "      <td>5</td>\n",
       "    </tr>\n",
       "    <tr>\n",
       "      <th>Capomulin</th>\n",
       "      <td>m601</td>\n",
       "      <td>36.825367</td>\n",
       "      <td>10</td>\n",
       "    </tr>\n",
       "    <tr>\n",
       "      <th>Capomulin</th>\n",
       "      <td>m601</td>\n",
       "      <td>35.464612</td>\n",
       "      <td>15</td>\n",
       "    </tr>\n",
       "    <tr>\n",
       "      <th>Capomulin</th>\n",
       "      <td>m601</td>\n",
       "      <td>34.255732</td>\n",
       "      <td>20</td>\n",
       "    </tr>\n",
       "    <tr>\n",
       "      <th>Capomulin</th>\n",
       "      <td>m601</td>\n",
       "      <td>33.118756</td>\n",
       "      <td>25</td>\n",
       "    </tr>\n",
       "    <tr>\n",
       "      <th>Capomulin</th>\n",
       "      <td>m601</td>\n",
       "      <td>31.758275</td>\n",
       "      <td>30</td>\n",
       "    </tr>\n",
       "    <tr>\n",
       "      <th>Capomulin</th>\n",
       "      <td>m601</td>\n",
       "      <td>30.834357</td>\n",
       "      <td>35</td>\n",
       "    </tr>\n",
       "    <tr>\n",
       "      <th>Capomulin</th>\n",
       "      <td>m601</td>\n",
       "      <td>31.378045</td>\n",
       "      <td>40</td>\n",
       "    </tr>\n",
       "    <tr>\n",
       "      <th>Capomulin</th>\n",
       "      <td>m601</td>\n",
       "      <td>28.430964</td>\n",
       "      <td>45</td>\n",
       "    </tr>\n",
       "  </tbody>\n",
       "</table>\n",
       "</div>"
      ],
      "text/plain": [
       "             Mouse ID  Tumor Volume (mm3)  Timepoint\n",
       "Drug Regimen                                        \n",
       "Capomulin        m601           45.000000          0\n",
       "Capomulin        m601           41.408591          5\n",
       "Capomulin        m601           36.825367         10\n",
       "Capomulin        m601           35.464612         15\n",
       "Capomulin        m601           34.255732         20\n",
       "Capomulin        m601           33.118756         25\n",
       "Capomulin        m601           31.758275         30\n",
       "Capomulin        m601           30.834357         35\n",
       "Capomulin        m601           31.378045         40\n",
       "Capomulin        m601           28.430964         45"
      ]
     },
     "execution_count": 66,
     "metadata": {},
     "output_type": "execute_result"
    }
   ],
   "source": [
    "# Use \"i\" value generated above ( still need to work to make interactive)\n",
    "\n",
    "mouse_s_data = Capomulin_time_tumor_vol[(Capomulin_time_tumor_vol['Mouse ID'] == 'm601')]\n",
    "mouse_s_data"
   ]
  },
  {
   "cell_type": "code",
   "execution_count": 67,
   "metadata": {},
   "outputs": [
    {
     "data": {
      "image/png": "[encoded data removed]",
      "text/plain": [
       "<Figure size 432x288 with 1 Axes>"
      ]
     },
     "metadata": {
      "needs_background": "light"
     },
     "output_type": "display_data"
    }
   ],
   "source": [
    "# Get data for sample mouse\n",
    "\n",
    "tumor = mouse_s_data['Tumor Volume (mm3)']\n",
    "time = mouse_s_data['Timepoint']\n",
    "plt.plot(time, tumor, color='Blue', marker = 'o')\n",
    "plt.xlabel('Timepoint (Days)')\n",
    "plt.ylabel('Tumor Volume (mm3)')\n",
    "plt.title('Tumor volume vs. Timepoint')\n",
    "plt.show()"
   ]
  },
  {
   "cell_type": "markdown",
   "metadata": {},
   "source": [
    "## 9. Scatter Plots\n",
    "### Mouse weight versus average tumor volume for the Capomulin regimen"
   ]
  },
  {
   "cell_type": "code",
   "execution_count": 68,
   "metadata": {},
   "outputs": [],
   "source": [
    "Capomulin_mouse_weight = sorting_values.loc[['Capomulin'],['Tumor Volume (mm3)','Weight (g)']]\n",
    "# Capomulin_mouse_weight.head()"
   ]
  },
  {
   "cell_type": "code",
   "execution_count": 69,
   "metadata": {},
   "outputs": [],
   "source": [
    "mean_tumor_vol_cap = Capomulin_mouse_weight.groupby('Tumor Volume (mm3)').mean()\n",
    "mean_tumor_vol_cap = mean_tumor_vol_cap.reset_index()\n",
    "# mean_tumor_vol_cap.head()"
   ]
  },
  {
   "cell_type": "code",
   "execution_count": 70,
   "metadata": {},
   "outputs": [
    {
     "data": {
      "image/png": "[encoded data removed]",
      "text/plain": [
       "<Figure size 432x288 with 1 Axes>"
      ]
     },
     "metadata": {
      "needs_background": "light"
     },
     "output_type": "display_data"
    }
   ],
   "source": [
    "plt.title('Average Tumor volume vs.  Weight - Copomulin')\n",
    "plt.xlabel('Mouse weight')\n",
    "plt.ylabel(\"Tumor Volume (mm3)\" )\n",
    "\n",
    "plt.scatter(mean_tumor_vol_cap['Weight (g)'], mean_tumor_vol_cap['Tumor Volume (mm3)'])\n",
    "\n",
    "plt.show()"
   ]
  },
  {
   "cell_type": "markdown",
   "metadata": {},
   "source": [
    "## 10. Correlation and Regression"
   ]
  },
  {
   "cell_type": "code",
   "execution_count": 71,
   "metadata": {},
   "outputs": [
    {
     "data": {
      "image/png": "[encoded data removed]",
      "text/plain": [
       "<Figure size 432x288 with 1 Axes>"
      ]
     },
     "metadata": {
      "needs_background": "light"
     },
     "output_type": "display_data"
    },
    {
     "name": "stdout",
     "output_type": "stream",
     "text": [
      "The correlation coefficient between mouse weight and average tumor volume for the Capomulin regimen is 0.88\n"
     ]
    }
   ],
   "source": [
    "# Calculate the correlation coefficient and linear regression model for mouse weight and average tumor volume for the Capomulin regimen\n",
    "\n",
    "from scipy.stats import linregress\n",
    "\n",
    "# Add the linear regression equation and line to plot\n",
    "x_values = mean_tumor_vol_cap['Weight (g)']\n",
    "y_values = mean_tumor_vol_cap['Tumor Volume (mm3)']\n",
    "\n",
    "(slope, intercept, rvalue, pvalue, stderr) = linregress(x_values, y_values)\n",
    "\n",
    "regress_values = x_values * slope + intercept\n",
    "\n",
    "line_eq = \"y = \" + str(round(slope,2)) + \"x + \" + str(round(intercept,2))\n",
    "\n",
    "plt.scatter(x_values,y_values)\n",
    "plt.plot(x_values,regress_values,\"r-\")\n",
    "plt.annotate(line_eq,(20,10),fontsize=15,color=\"black\")\n",
    "\n",
    "plt.title(\" Mouse Weight vs. Average Tumor Volume\")\n",
    "plt.xlabel(\"Mouse weight\")\n",
    "plt.ylabel(\"Tumor volume \" )\n",
    "plt.show()\n",
    "\n",
    "print(f\"The correlation coefficient between mouse weight and average tumor volume for the Capomulin regimen is {round(st.pearsonr(mean_tumor_vol_cap['Weight (g)'], mean_tumor_vol_cap['Tumor Volume (mm3)'])[0],2)}\")"
   ]
  },
  {
   "cell_type": "markdown",
   "metadata": {},
   "source": [
    "### Final Observations and Insights"
   ]
  },
  {
   "cell_type": "markdown",
   "metadata": {},
   "source": [
    "#ramicane and ceftamin have normal distribuition  \n",
    "#copolumin and infubinol positive skew\n",
    "#Values below -9.51 could be outliers.\n",
    "#Values above 105.14 could be outliers."
   ]
  }
 ],
 "metadata": {
  "anaconda-cloud": {},
  "kernelspec": {
   "display_name": "Python [conda env:PythonData] *",
   "language": "python",
   "name": "conda-env-PythonData-py"
  },
  "language_info": {
   "codemirror_mode": {
    "name": "ipython",
    "version": 3
   },
   "file_extension": ".py",
   "mimetype": "text/x-python",
   "name": "python",
   "nbconvert_exporter": "python",
   "pygments_lexer": "ipython3",
   "version": "3.8.5"
  }
 },
 "nbformat": 4,
 "nbformat_minor": 2
}
